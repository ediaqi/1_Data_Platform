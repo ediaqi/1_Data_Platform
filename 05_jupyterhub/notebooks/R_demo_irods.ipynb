{
 "cells": [
  {
   "cell_type": "markdown",
   "id": "6b81ed9a-fba0-4bc8-bb57-4830d305bfbf",
   "metadata": {
    "editable": true,
    "slideshow": {
     "slide_type": ""
    },
    "tags": []
   },
   "source": [
    "# 0. Setup"
   ]
  },
  {
   "cell_type": "markdown",
   "id": "ddd7d036-ab1a-4952-ba88-92170c23aef2",
   "metadata": {},
   "source": [
    "## 0.1 Import Libraries"
   ]
  },
  {
   "cell_type": "code",
   "execution_count": 63,
   "id": "335b041c-0bfc-4aa5-bee8-ec72d1ac4388",
   "metadata": {},
   "outputs": [
    {
     "name": "stderr",
     "output_type": "stream",
     "text": [
      "Warning message in dir.create(\"~/R/libs\", recursive = TRUE):\n",
      "“'/home/admin/R/libs' already exists”\n"
     ]
    }
   ],
   "source": [
    "dir.create(\"~/R/libs\", recursive = TRUE)\n",
    "\n",
    "# Install the packages to this directory\n",
    "#install.packages(\"jsonlite\", lib = \"~/R/libs\")\n",
    "#install.packages(\"rirods\", lib = \"~/R/libs\")\n",
    "#install.packages(\"rappdirs\", lib = \"~/R/libs\")\n",
    "#install.packages(\"curl\", lib = \"~/R/libs\")\n",
    "#install.packages(\"openssl\", lib = \"~/R/libs\")\n",
    "#install.packages(\"httr2\", lib = \"~/R/libs\")\n",
    "# Load the packages from the custom library\n",
    "library(jsonlite, lib.loc = \"~/R/libs\")\n",
    "library(rappdirs, lib.loc = \"~/R/libs\")\n",
    "library(curl, lib.loc = \"~/R/libs\")\n",
    "library(openssl, lib.loc = \"~/R/libs\")\n",
    "library(httr2, lib.loc = \"~/R/libs\")\n",
    "library(rirods, lib.loc = \"~/R/libs\")"
   ]
  },
  {
   "cell_type": "markdown",
   "id": "4ca1818d-f5e2-4139-96ac-34e9474746e3",
   "metadata": {},
   "source": [
    "## 0.2 Define Variables"
   ]
  },
  {
   "cell_type": "code",
   "execution_count": 64,
   "id": "63e8905a-b237-4e60-9c23-163e1656b8b0",
   "metadata": {},
   "outputs": [],
   "source": [
    "read_credentials <- function(file_path) {\n",
    "  credentials <- fromJSON(file_path)\n",
    "  return(credentials)\n",
    "}\n",
    "\n",
    "# Read credentials\n",
    "credentials <- read_credentials('credentials.json')\n",
    "\n",
    "IRODS_URL <- \"http://kcs-ediaqi-kdp.demo.know-center.at\"\n",
    "IRODS_PORT <- 1247\n",
    "IRODS_USER <- credentials$IRODS_USER\n",
    "IRODS_PASSWORD <- credentials$IRODS_PASSWORD\n",
    "IRODS_ZONE <- \"ediaqi\"\n",
    "IRODS_COLLECTION <- \"/ediaqi/home/test2\"\n",
    "create_irods(\"http://kcs-ediaqi-kdp.demo.know-center.at:9000/irods-http-api/0.3.0\")\n",
    "iauth(IRODS_USER, IRODS_PASSWORD)"
   ]
  },
  {
   "cell_type": "markdown",
   "id": "1fd1d330-f04e-4688-8b0a-59e69b4ae7f9",
   "metadata": {},
   "source": [
    "# 1. Read Folders/Files"
   ]
  },
  {
   "cell_type": "markdown",
   "id": "f5599d97-0f8a-47c1-8d78-c66a975a6f8b",
   "metadata": {},
   "source": [
    "## 1.1. Discover Subcollections & Files"
   ]
  },
  {
   "cell_type": "code",
   "execution_count": 65,
   "id": "14858582-fb0e-43ff-9655-87d52fb8520d",
   "metadata": {},
   "outputs": [
    {
     "data": {
      "text/html": [
       "'/ediaqi/home/test2'"
      ],
      "text/latex": [
       "'/ediaqi/home/test2'"
      ],
      "text/markdown": [
       "'/ediaqi/home/test2'"
      ],
      "text/plain": [
       "[1] \"/ediaqi/home/test2\""
      ]
     },
     "metadata": {},
     "output_type": "display_data"
    },
    {
     "data": {
      "text/plain": [
       "\n",
       "==========\n",
       "iRODS Zone\n",
       "==========\n",
       "                                   logical_path\n",
       "                        /ediaqi/home/test2/test\n",
       "       /ediaqi/home/test2/CO_THI_FE_001_new.csv\n",
       "          /ediaqi/home/test2/NO2_THI_FE_003.csv\n",
       "       /ediaqi/home/test2/O3_THI_FE_001_new.csv\n",
       "         /ediaqi/home/test2/PM10_THI_FE_001.csv\n",
       " /ediaqi/home/test2/PM10_THI_FE_001andPM2.5.csv\n",
       "         /ediaqi/home/test2/PM10_THI_FE_002.csv\n",
       "  /ediaqi/home/test2/PM10_THI_FE_005-review.csv\n",
       "        /ediaqi/home/test2/PM2_5_THI_FE_001.csv"
      ]
     },
     "metadata": {},
     "output_type": "display_data"
    }
   ],
   "source": [
    "icd(\".\")\n",
    "ipwd()\n",
    "ils()"
   ]
  },
  {
   "cell_type": "markdown",
   "id": "7da2188b-8df5-44dd-a9de-9d0cb1d3f55b",
   "metadata": {},
   "source": [
    "# 1.3 Copy to Working Directory"
   ]
  },
  {
   "cell_type": "code",
   "execution_count": 66,
   "id": "3504d9fc-67eb-415a-afb3-0e67f62a9cff",
   "metadata": {
    "editable": true,
    "slideshow": {
     "slide_type": ""
    },
    "tags": []
   },
   "outputs": [
    {
     "name": "stdout",
     "output_type": "stream",
     "text": [
      "[1] \"Done.\"\n"
     ]
    }
   ],
   "source": [
    "chosen_file_path <- \"/ediaqi/home/test2/PM10_THI_FE_001.csv\"\n",
    "\n",
    "iget(chosen_file_path, \"PM10_THI_FE_001.csv\", overwrite=TRUE)\n",
    "print('Done.')"
   ]
  },
  {
   "cell_type": "markdown",
   "id": "40eecac0-0329-445c-9938-9f2f02c90a60",
   "metadata": {},
   "source": [
    "# 2. Read into Data Frame"
   ]
  },
  {
   "cell_type": "markdown",
   "id": "ece2bd49-fd3c-40af-8d3c-16f76acc8d8b",
   "metadata": {},
   "source": [
    "## 2.1 Convert from a Dowloaded file"
   ]
  },
  {
   "cell_type": "code",
   "execution_count": 67,
   "id": "422c2639-2c9e-4e65-b7f3-e2e50ccb090e",
   "metadata": {},
   "outputs": [],
   "source": [
    "df <- read.csv(\"PM10_THI_FE_001.csv\")"
   ]
  },
  {
   "cell_type": "markdown",
   "id": "b154f549-d8cc-48a9-bc2c-cd1c69c422b4",
   "metadata": {},
   "source": [
    "## 2.2 Convert the DataFrame"
   ]
  },
  {
   "cell_type": "code",
   "execution_count": 68,
   "id": "c37673d8-3e8d-46ec-bd21-c67b86c3aead",
   "metadata": {},
   "outputs": [],
   "source": [
    "df$start_time <- as.POSIXct(df$phenomenonTimeStart, format=\"%Y-%m-%dT%H:%M:%S\")"
   ]
  },
  {
   "cell_type": "markdown",
   "id": "224422e4-df42-46d4-809a-9495001b8bd0",
   "metadata": {},
   "source": [
    "## 2.3 Filter DataFrame for Datastream"
   ]
  },
  {
   "cell_type": "code",
   "execution_count": 69,
   "id": "1e1d2e5e-4b08-45b2-b49c-4b5ac1f1513c",
   "metadata": {},
   "outputs": [],
   "source": [
    "filter_stream1 <- 'PM10@THI.FE.001'\n",
    "filter_stream2 <- 'O3@THI.FE.003'\n",
    "df_PM10 <- df[df$Datastream == 'PM10@THI.FE.001', ]\n",
    "df_O3 <- df[df$Datastream == 'O3@THI.FE.003', ]"
   ]
  },
  {
   "cell_type": "markdown",
   "id": "dd1d7475-7037-402c-8055-b92296247d6f",
   "metadata": {},
   "source": [
    "# 3. Plotting"
   ]
  },
  {
   "cell_type": "code",
   "execution_count": 70,
   "id": "ae6df905-5791-4e97-ae65-6ab25584d45d",
   "metadata": {
    "editable": true,
    "slideshow": {
     "slide_type": ""
    },
    "tags": []
   },
   "outputs": [
    {
     "data": {
      "image/png": "[encoded data removed]",
      "text/plain": [
       "Plot with title “O3@THI.FE.003”"
      ]
     },
     "metadata": {
      "image/png": {
       "height": 420,
       "width": 420
      }
     },
     "output_type": "display_data"
    }
   ],
   "source": [
    "par(mfrow = c(2, 1))\n",
    "\n",
    "# Plot for PM10@THI.FE.001\n",
    "plot(df_PM10$start_time, df_PM10$result, type=\"o\", xlab=\"Time\", ylab=\"Result\", main=filter_stream1, pch = 16)\n",
    "grid()\n",
    "\n",
    "# Plot for O3@THI.FE.003\n",
    "plot(df_O3$start_time, df_O3$result, type=\"o\", xlab=\"Time\", ylab=\"Result\", main=filter_stream2, pch = 16)\n",
    "grid()"
   ]
  },
  {
   "cell_type": "code",
   "execution_count": null,
   "id": "39004a4f-e670-4c64-b53c-df3f3eb6eb12",
   "metadata": {},
   "outputs": [],
   "source": []
  }
 ],
 "metadata": {
  "kernelspec": {
   "display_name": "R",
   "language": "R",
   "name": "ir"
  },
  "language_info": {
   "codemirror_mode": "r",
   "file_extension": ".r",
   "mimetype": "text/x-r-source",
   "name": "R",
   "pygments_lexer": "r",
   "version": "4.1.2"
  }
 },
 "nbformat": 4,
 "nbformat_minor": 5
}
