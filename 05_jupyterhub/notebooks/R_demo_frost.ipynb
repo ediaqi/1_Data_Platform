{
 "cells": [
  {
   "cell_type": "markdown",
   "id": "ddeb6594-b68c-4139-af86-d01de0977154",
   "metadata": {},
   "source": [
    "# 0. Setup"
   ]
  },
  {
   "cell_type": "markdown",
   "id": "550d0822-cee3-4ddd-927c-09382981c633",
   "metadata": {},
   "source": [
    "## 0.1 Import Libraries"
   ]
  },
  {
   "cell_type": "code",
   "execution_count": 1,
   "id": "1b0f3ba4-b86d-4997-9b83-90f4449914de",
   "metadata": {},
   "outputs": [
    {
     "name": "stderr",
     "output_type": "stream",
     "text": [
      "Using libcurl 7.81.0 with OpenSSL/3.0.2\n",
      "\n",
      "\n",
      "Attaching package: ‘curl’\n",
      "\n",
      "\n",
      "The following object is masked from ‘package:httr’:\n",
      "\n",
      "    handle_reset\n",
      "\n",
      "\n"
     ]
    }
   ],
   "source": [
    "#dir.create(\"~/R/libs\", recursive = TRUE)\n",
    "\n",
    "# Install the packages to this directory\n",
    "#install.packages(\"jsonlite\", lib = \"~/R/libs\")\n",
    "#install.packages(\"httr\", lib = \"~/R/libs\")\n",
    "#install.packages(\"xml2\", lib = \"~/R/libs\")\n",
    "\n",
    "# Load the packages from the custom library\n",
    "library(jsonlite, lib.loc = \"~/R/libs\")\n",
    "library(httr, lib.loc = \"~/R/libs\")\n",
    "library(curl, lib.loc = \"~/R/libs\")\n",
    "library(xml2, lib.loc = \"~/R/libs\")"
   ]
  },
  {
   "cell_type": "markdown",
   "id": "f102bcb1-7fcf-4ea4-af12-6f573835f90d",
   "metadata": {},
   "source": [
    "## 0.2 Define Variables"
   ]
  },
  {
   "cell_type": "code",
   "execution_count": 3,
   "id": "94cb9e2c-9ae8-463f-8167-dde3defe7218",
   "metadata": {},
   "outputs": [],
   "source": [
    "read_credentials <- function(file_path) {\n",
    "  credentials <- fromJSON(file_path)\n",
    "  return(credentials)\n",
    "}\n",
    "\n",
    "# Read credentials\n",
    "credentials <- read_credentials('credentials.json')\n",
    "AUTHENTICATION_URL <- credentials$AUTHENTICATION_URL\n",
    "AUTHENTICATION_DETAILS <- credentials$AUTHENTICATION_DETAILS\n",
    "\n",
    "FROST_DATASTREAMS <- c(\"TVOC@THI.FE.003\", \"TVOC@THI.FE.004\")\n",
    "FROST_TIME_START = \"2024-06-24T00:00:00+01:00\"\n",
    "FROST_TIME_END = \"2024-07-03T12:00:00+01:00\"\n",
    "FROST_DATASTREAM_QUERY <- sprintf(\"Datastreams?$filter=substringof('%s',name)\", FROST_DATASTREAMS)\n",
    "FROST_URL <- \"https://kdp-ediaqi.know-center.at/FROST-Server/v1.1/\""
   ]
  },
  {
   "cell_type": "markdown",
   "id": "d884decc-a871-4fba-a90e-40fe54e1c33c",
   "metadata": {},
   "source": [
    "## 0.3 Define Authentication Function"
   ]
  },
  {
   "cell_type": "code",
   "execution_count": 4,
   "id": "5956df53-cfd1-4208-8b92-cfe736f6a241",
   "metadata": {},
   "outputs": [
    {
     "name": "stdout",
     "output_type": "stream",
     "text": [
      "\n"
     ]
    }
   ],
   "source": [
    "get_access_token <- function(auth_url, auth_details) {\n",
    "  # Perform POST request to obtain access token\n",
    "  auth_response <- POST(url = auth_url,\n",
    "                        body = auth_details,\n",
    "                        encode = \"form\",\n",
    "                        verbose())  # Optional: verbose output for debugging\n",
    "  \n",
    "  # Check for HTTP errors\n",
    "  stop_for_status(auth_response)\n",
    "  \n",
    "  # Extract access token from JSON response\n",
    "  token_response <- content(auth_response)\n",
    "  access_token <- token_response$access_token\n",
    "  \n",
    "  return(access_token)\n",
    "}\n",
    "access_token <- get_access_token(AUTHENTICATION_URL, AUTHENTICATION_DETAILS)"
   ]
  },
  {
   "cell_type": "markdown",
   "id": "a1f59e45-f64a-49b6-8c57-757535edc2be",
   "metadata": {},
   "source": [
    "## 0.4 Define Download Function"
   ]
  },
  {
   "cell_type": "code",
   "execution_count": 5,
   "id": "01e18f48-ba85-4cf5-9f2a-77f85720f8a6",
   "metadata": {},
   "outputs": [],
   "source": [
    "get_frost_data <- function(base_url, filter_query, access_token) {\n",
    "  headers <- add_headers(Authorization = paste(\"Bearer\", access_token))\n",
    "  \n",
    "  # Initialize an empty list for storing results\n",
    "  res <- list()\n",
    "  url_to_request <- base_url\n",
    "  continue_fetching <- TRUE\n",
    "  first_request <- TRUE\n",
    "  repeat {\n",
    "    if (first_request) {\n",
    "    response <- GET(url_to_request, query=filter_query, add_headers(Authorization = paste(\"Bearer\", access_token)))\n",
    "    first_request <- FALSE\n",
    "    } else {\n",
    "        response <- GET(url_to_request, add_headers(Authorization = paste(\"Bearer\", access_token)))\n",
    "    }\n",
    "    # Check for HTTP errors\n",
    "    stop_for_status(response)\n",
    "    \n",
    "    # Extract JSON content\n",
    "    json_content <- content(response, \"parsed\")\n",
    "    \n",
    "    # Append current page's data to results\n",
    "    res <- c(res, json_content$value)\n",
    "    \n",
    "    # Check for next page link\n",
    "    if (\"@iot.nextLink\" %in% names(json_content)) {\n",
    "      url_to_request <- json_content$`@iot.nextLink`\n",
    "      filter_query <- list()  # Clear filter_query since next URL already includes parameters\n",
    "    } else {\n",
    "      continue_fetching <- FALSE\n",
    "    }\n",
    "    \n",
    "    # Break the loop if there are no more pages\n",
    "    if (!continue_fetching) {\n",
    "      break\n",
    "    }\n",
    "  }\n",
    "  return(res)\n",
    "}"
   ]
  },
  {
   "cell_type": "markdown",
   "id": "822b64d1-f8f0-4d5e-bd31-3306b864ce79",
   "metadata": {},
   "source": [
    "# 1. Dowload the Data"
   ]
  },
  {
   "cell_type": "code",
   "execution_count": 7,
   "id": "381eb3dd-22f8-4a42-87c1-56c626bc355a",
   "metadata": {},
   "outputs": [
    {
     "name": "stdout",
     "output_type": "stream",
     "text": [
      "[1] \"(Datastream/name eq 'TVOC@THI.FE.003' or Datastream/name eq 'TVOC@THI.FE.004') and phenomenonTime ge 2024-06-24T00:00:00+01:00 and phenomenonTime le 2024-07-03T12:00:00+01:00\"\n"
     ]
    }
   ],
   "source": [
    "query <- \"Observations?$expand=Datastream($select=id,name)&$filter=\"\n",
    "query <- \"\"\n",
    "# Construct the filter part for Datastreams\n",
    "for (idx in seq_along(FROST_DATASTREAMS)) {\n",
    "  if (idx == 1) {\n",
    "    query <- paste0(query, \"(Datastream/name eq '\", FROST_DATASTREAMS[idx], \"'\")\n",
    "  } else {\n",
    "    query <- paste0(query, \" or Datastream/name eq '\", FROST_DATASTREAMS[idx], \"'\")\n",
    "  }\n",
    "  if (idx == length(FROST_DATASTREAMS)) {\n",
    "    query <- paste0(query, \")\")\n",
    "  }\n",
    "}\n",
    "\n",
    "# Add the time range to the query\n",
    "query <- paste0(query, \" and phenomenonTime ge \", enc2utf8(FROST_TIME_START), \n",
    "                \" and phenomenonTime le \", enc2utf8(FROST_TIME_END))\n",
    "filter_query = list(\"$expand\" = \"Datastream($select=id,name)\", \"$filter\"= query)\n",
    "# Print the final query\n",
    "print(query)\n",
    "observations <- get_frost_data(paste0(FROST_URL,\"Observations\"), filter_query, access_token)"
   ]
  },
  {
   "cell_type": "markdown",
   "id": "9a51803d-6397-47be-b400-2c83abe48c42",
   "metadata": {},
   "source": [
    "# 2. Transform Data into R DataFrame"
   ]
  },
  {
   "cell_type": "code",
   "execution_count": 8,
   "id": "cfe93b52-ad69-41b6-9785-49e5aecab076",
   "metadata": {},
   "outputs": [],
   "source": [
    "df <- data.frame(\n",
    "  id = sapply(observations, `[[`, \"@iot.id\"),\n",
    "  Datastream = sapply(observations, function(x) x$Datastream$name),\n",
    "  result = sapply(observations, `[[`, \"result\"),\n",
    "  phenomenonTime = sapply(observations, `[[`, \"phenomenonTime\"),\n",
    "  stringsAsFactors = FALSE\n",
    ")\n",
    "\n",
    "# Split the phenomenonTime column to get start_time\n",
    "df$start_time <- sapply(strsplit(df$phenomenonTime, \"/\"), `[`, 1)\n",
    "\n",
    "# Convert start_time to date-time format\n",
    "df$start_time <- as.POSIXct(df$start_time, format = \"%Y-%m-%dT%H:%M:%OSZ\")\n",
    "\n",
    "# Rename the columns\n",
    "colnames(df) <- c(\"id\", \"Datastream\", \"result\", \"phenomenonTime\", \"start_time\")"
   ]
  },
  {
   "cell_type": "markdown",
   "id": "265bff0a-697d-418e-8fd4-69013869a510",
   "metadata": {},
   "source": [
    "# 3. Plotting"
   ]
  },
  {
   "cell_type": "code",
   "execution_count": 9,
   "id": "ca68db59-2b8b-4c99-be2f-9e6bf856b523",
   "metadata": {},
   "outputs": [
    {
     "data": {
      "image/png": "[encoded data removed]",
      "text/plain": [
       "Plot with title “FROST_DATASTREAM - TVOC@THI.FE.004”"
      ]
     },
     "metadata": {
      "image/png": {
       "height": 420,
       "width": 420
      }
     },
     "output_type": "display_data"
    }
   ],
   "source": [
    "unique_datastreams <- unique(df$Datastream)\n",
    "\n",
    "# Calculate the number of datastreams\n",
    "num_datastreams <- length(unique_datastreams)\n",
    "\n",
    "# Set up the layout for multiple plots\n",
    "par(mfrow = c(num_datastreams, 1), mar = c(4, 4, 2, 1), oma = c(0, 0, 2, 0))\n",
    "\n",
    "# Loop over each unique datastream and create a plot in its respective subplot\n",
    "for (datastream in unique_datastreams) {\n",
    "  # Filter the dataframe for the current datastream\n",
    "  df_filtered <- df[df$Datastream == datastream, ]\n",
    "  \n",
    "  # Plot the data\n",
    "  plot(df_filtered$start_time, df_filtered$result, type = \"l\", xlab = \"Time\", ylab = \"Result\", main = paste(\"FROST_DATASTREAM -\", datastream))\n",
    "  \n",
    "  # Customize the plot\n",
    "  grid()\n",
    "}\n",
    "\n",
    "# Reset the layout\n",
    "par(mfrow = c(1, 1))"
   ]
  },
  {
   "cell_type": "code",
   "execution_count": null,
   "id": "80fb71eb-9b03-4cf1-9328-ec3e6480a7f2",
   "metadata": {},
   "outputs": [],
   "source": []
  }
 ],
 "metadata": {
  "kernelspec": {
   "display_name": "R",
   "language": "R",
   "name": "ir"
  },
  "language_info": {
   "codemirror_mode": "r",
   "file_extension": ".r",
   "mimetype": "text/x-r-source",
   "name": "R",
   "pygments_lexer": "r",
   "version": "4.1.2"
  }
 },
 "nbformat": 4,
 "nbformat_minor": 5
}
