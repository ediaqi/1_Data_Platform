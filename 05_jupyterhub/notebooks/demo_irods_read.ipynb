{
 "cells": [
  {
   "cell_type": "markdown",
   "id": "6b81ed9a-fba0-4bc8-bb57-4830d305bfbf",
   "metadata": {},
   "source": [
    "# 0. Setup"
   ]
  },
  {
   "cell_type": "markdown",
   "id": "ddd7d036-ab1a-4952-ba88-92170c23aef2",
   "metadata": {},
   "source": [
    "## 0.1 Import Libraries"
   ]
  },
  {
   "cell_type": "code",
   "execution_count": 30,
   "id": "335b041c-0bfc-4aa5-bee8-ec72d1ac4388",
   "metadata": {},
   "outputs": [],
   "source": [
    "from irods.session import iRODSSession\n",
    "from irods.meta import iRODSMeta\n",
    "import pandas as pd\n",
    "import matplotlib.pyplot as plt\n",
    "from datetime import datetime"
   ]
  },
  {
   "cell_type": "markdown",
   "id": "4ca1818d-f5e2-4139-96ac-34e9474746e3",
   "metadata": {},
   "source": [
    "## 0.2 Define Variables"
   ]
  },
  {
   "cell_type": "code",
   "execution_count": 28,
   "id": "63e8905a-b237-4e60-9c23-163e1656b8b0",
   "metadata": {},
   "outputs": [],
   "source": [
    "IRODS_URL = \"kcs-ediaqi-kdp.demo.know-center.at\"\n",
    "IRODS_PORT = 1247\n",
    "IRODS_USER = \"y\"\n",
    "IRODS_PASSWORD = \"y\"\n",
    "IRODS_ZONE = \"ediaqi\"\n",
    "IRODS_COLLECTION = \"/ediaqi/home/test2\""
   ]
  },
  {
   "cell_type": "markdown",
   "id": "1fd1d330-f04e-4688-8b0a-59e69b4ae7f9",
   "metadata": {},
   "source": [
    "# 1. Read Folders/Files"
   ]
  },
  {
   "cell_type": "markdown",
   "id": "f5599d97-0f8a-47c1-8d78-c66a975a6f8b",
   "metadata": {},
   "source": [
    "## 1.1. Discover Subcollections & Files"
   ]
  },
  {
   "cell_type": "code",
   "execution_count": 29,
   "id": "cd43c37f-7036-4218-b801-fa13181f4d9b",
   "metadata": {
    "editable": true,
    "slideshow": {
     "slide_type": ""
    },
    "tags": []
   },
   "outputs": [
    {
     "name": "stdout",
     "output_type": "stream",
     "text": [
      "There are 0 folders:\n",
      "--------\n",
      "There are 2 files:\n",
      "<iRODSDataObject 10044 PM10_THI_FE_002.csv>\n",
      "<iRODSDataObject 10059 PM10_THI_FE_005-review.csv>\n"
     ]
    }
   ],
   "source": [
    "with iRODSSession(host=IRODS_URL, port=IRODS_PORT, user=IRODS_USER, password=IRODS_PASSWORD, zone=IRODS_ZONE) as session:\n",
    "    coll = session.collections.get( IRODS_COLLECTION )\n",
    "    \n",
    "    print(f'There are {len(coll.subcollections)} folders:')\n",
    "    for col in coll.subcollections:\n",
    "        print(col)\n",
    "    \n",
    "    print(\"--------\")\n",
    "    \n",
    "    print(f'There are {len(coll.data_objects)} files:')\n",
    "    for obj in coll.data_objects:\n",
    "        print( obj )"
   ]
  },
  {
   "cell_type": "markdown",
   "id": "2240b5a0-39ea-4eaf-8d9f-49d8f5c53aae",
   "metadata": {},
   "source": [
    "## 1.2. Get Desired Files from a specific directory"
   ]
  },
  {
   "cell_type": "code",
   "execution_count": 22,
   "id": "e3be20bd-be5c-48f2-9fe6-9d99dc4ceab5",
   "metadata": {
    "editable": true,
    "slideshow": {
     "slide_type": ""
    },
    "tags": []
   },
   "outputs": [
    {
     "data": {
      "text/plain": [
       "{'PM10_THI_FE_002.csv': <iRODSDataObject 10044 PM10_THI_FE_002.csv>,\n",
       " 'PM10_THI_FE_005-review.csv': <iRODSDataObject 10059 PM10_THI_FE_005-review.csv>}"
      ]
     },
     "execution_count": 22,
     "metadata": {},
     "output_type": "execute_result"
    }
   ],
   "source": [
    "files = {}\n",
    "\n",
    "with iRODSSession(host=IRODS_URL, port=IRODS_PORT, user=IRODS_USER, password=IRODS_PASSWORD, zone=IRODS_ZONE) as session:  \n",
    "    coll = session.collections.get(IRODS_COLLECTION)\n",
    "    for obj in coll.data_objects:\n",
    "        files.update({ obj.name: obj})\n",
    "files"
   ]
  },
  {
   "cell_type": "markdown",
   "id": "7da2188b-8df5-44dd-a9de-9d0cb1d3f55b",
   "metadata": {},
   "source": [
    "# 1.3 Copy to Working Directory"
   ]
  },
  {
   "cell_type": "code",
   "execution_count": 23,
   "id": "3504d9fc-67eb-415a-afb3-0e67f62a9cff",
   "metadata": {
    "editable": true,
    "slideshow": {
     "slide_type": ""
    },
    "tags": []
   },
   "outputs": [
    {
     "name": "stdout",
     "output_type": "stream",
     "text": [
      "Processing PM10_THI_FE_002.csv\n",
      "Processing PM10_THI_FE_005-review.csv\n",
      "Done.\n"
     ]
    }
   ],
   "source": [
    "for name, file in files.items():\n",
    "    print(f'Processing {name}')\n",
    "    with file.open('r') as input_file:\n",
    "        with open(name, 'w') as output_file:\n",
    "            for line in input_file.readlines():\n",
    "                output_file.write(line.decode('utf8'))\n",
    "print('Done.')"
   ]
  },
  {
   "cell_type": "markdown",
   "id": "40eecac0-0329-445c-9938-9f2f02c90a60",
   "metadata": {},
   "source": [
    "# 2. Read into Data Frame"
   ]
  },
  {
   "cell_type": "markdown",
   "id": "f7920b6c-2c77-4bc5-aad8-1e068b27ada7",
   "metadata": {},
   "source": [
    "## 2.1 Read from iRODS"
   ]
  },
  {
   "cell_type": "code",
   "execution_count": 24,
   "id": "804a183d-703c-4b68-b860-a3912588ca56",
   "metadata": {},
   "outputs": [],
   "source": [
    "df = pd.read_csv( files['PM10_THI_FE_005-review.csv'].open('r') )"
   ]
  },
  {
   "cell_type": "markdown",
   "id": "ece2bd49-fd3c-40af-8d3c-16f76acc8d8b",
   "metadata": {},
   "source": [
    "## 2.2 Convert from a Dowloaded file"
   ]
  },
  {
   "cell_type": "code",
   "execution_count": null,
   "id": "422c2639-2c9e-4e65-b7f3-e2e50ccb090e",
   "metadata": {},
   "outputs": [],
   "source": [
    "df = pd.read_csv(\"PM10_THI_FE_002.csv\")"
   ]
  },
  {
   "cell_type": "markdown",
   "id": "b154f549-d8cc-48a9-bc2c-cd1c69c422b4",
   "metadata": {},
   "source": [
    "## 2.3 Convert the DataFrame"
   ]
  },
  {
   "cell_type": "code",
   "execution_count": 25,
   "id": "c37673d8-3e8d-46ec-bd21-c67b86c3aead",
   "metadata": {},
   "outputs": [],
   "source": [
    "df['start_time'] = df['phenomenonTime'].apply(lambda x: x.split('/')[0])\n",
    "df['start_time'] = pd.to_datetime(df['start_time'])"
   ]
  },
  {
   "cell_type": "markdown",
   "id": "dd1d7475-7037-402c-8055-b92296247d6f",
   "metadata": {},
   "source": [
    "# 3. Plotting"
   ]
  },
  {
   "cell_type": "code",
   "execution_count": 26,
   "id": "ae6df905-5791-4e97-ae65-6ab25584d45d",
   "metadata": {
    "editable": true,
    "slideshow": {
     "slide_type": ""
    },
    "tags": []
   },
   "outputs": [
    {
     "data": {
      "image/png": "[encoded data removed]",
      "text/plain": [
       "<Figure size 1000x500 with 1 Axes>"
      ]
     },
     "metadata": {},
     "output_type": "display_data"
    }
   ],
   "source": [
    "plt.figure(figsize=(10, 5))\n",
    "plt.plot(df['start_time'], df['result'], marker='o')\n",
    "\n",
    "plt.xlabel('Time')\n",
    "plt.ylabel('Result')\n",
    "plt.title('Results Over Time')\n",
    "plt.grid(True)\n",
    "plt.xticks(rotation=45)\n",
    "\n",
    "plt.show()"
   ]
  },
  {
   "cell_type": "code",
   "execution_count": null,
   "id": "39004a4f-e670-4c64-b53c-df3f3eb6eb12",
   "metadata": {},
   "outputs": [],
   "source": []
  }
 ],
 "metadata": {
  "kernelspec": {
   "display_name": "Python 3 (ipykernel)",
   "language": "python",
   "name": "python3"
  },
  "language_info": {
   "codemirror_mode": {
    "name": "ipython",
    "version": 3
   },
   "file_extension": ".py",
   "mimetype": "text/x-python",
   "name": "python",
   "nbconvert_exporter": "python",
   "pygments_lexer": "ipython3",
   "version": "3.10.12"
  }
 },
 "nbformat": 4,
 "nbformat_minor": 5
}
